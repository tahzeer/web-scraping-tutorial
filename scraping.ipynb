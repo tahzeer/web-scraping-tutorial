{
 "cells": [
  {
   "cell_type": "code",
   "execution_count": 1,
   "source": [
    "import requests\r\n",
    "from bs4 import BeautifulSoup as bs"
   ],
   "outputs": [],
   "metadata": {}
  },
  {
   "cell_type": "code",
   "execution_count": 3,
   "source": [
    "r = requests.get(\"https://keithgalli.github.io/web-scraping/webpage.html\")\r\n",
    "soup = bs(r.content)"
   ],
   "outputs": [],
   "metadata": {}
  },
  {
   "cell_type": "markdown",
   "source": [
    "# Grabbing all social media links"
   ],
   "metadata": {}
  },
  {
   "cell_type": "code",
   "execution_count": 18,
   "source": [
    "# using select method\r\n",
    "\r\n",
    "links = soup.select(\"ul.socials a\")\r\n",
    "socials = [link['href'] for link in links]\r\n",
    "socials"
   ],
   "outputs": [
    {
     "output_type": "execute_result",
     "data": {
      "text/plain": [
       "['https://www.instagram.com/keithgalli/',\n",
       " 'https://twitter.com/keithgalli',\n",
       " 'https://www.linkedin.com/in/keithgalli/',\n",
       " 'https://www.tiktok.com/@keithgalli']"
      ]
     },
     "metadata": {},
     "execution_count": 18
    }
   ],
   "metadata": {}
  },
  {
   "cell_type": "code",
   "execution_count": 30,
   "source": [
    "# u find/find_all method\r\n",
    "\r\n",
    "ulist = soup.find(\"ul\", attrs={'class':'socials'})\r\n",
    "socials = ulist.find_all('a')\r\n",
    "links = [social['href'] for social in socials]\r\n",
    "links"
   ],
   "outputs": [
    {
     "output_type": "execute_result",
     "data": {
      "text/plain": [
       "['https://www.instagram.com/keithgalli/',\n",
       " 'https://twitter.com/keithgalli',\n",
       " 'https://www.linkedin.com/in/keithgalli/',\n",
       " 'https://www.tiktok.com/@keithgalli']"
      ]
     },
     "metadata": {},
     "execution_count": 30
    }
   ],
   "metadata": {}
  },
  {
   "cell_type": "code",
   "execution_count": 37,
   "source": [
    "# using other method\r\n",
    "\r\n",
    "import re\r\n",
    "\r\n",
    "socials = soup.select(\"li.social a\")\r\n",
    "links = [social['href'] for social in socials]\r\n",
    "links"
   ],
   "outputs": [
    {
     "output_type": "execute_result",
     "data": {
      "text/plain": [
       "['https://www.instagram.com/keithgalli/',\n",
       " 'https://twitter.com/keithgalli',\n",
       " 'https://www.linkedin.com/in/keithgalli/',\n",
       " 'https://www.tiktok.com/@keithgalli']"
      ]
     },
     "metadata": {},
     "execution_count": 37
    }
   ],
   "metadata": {}
  },
  {
   "cell_type": "markdown",
   "source": [
    "# Grab all fun facts with 'is'"
   ],
   "metadata": {}
  },
  {
   "cell_type": "code",
   "execution_count": 89,
   "source": [
    "import re\r\n",
    "\r\n",
    "facts = soup.select(\"ul.fun-facts li\")\r\n",
    "temp = [fact.find(string=re.compile(\"is\")) for fact in facts]\r\n",
    "isFacts = [fact.find_parent().get_text() for fact in temp if fact]\r\n",
    "isFacts"
   ],
   "outputs": [
    {
     "output_type": "execute_result",
     "data": {
      "text/plain": [
       "['Middle name is Ronald',\n",
       " 'Dunkin Donuts coffee is better than Starbucks',\n",
       " \"A favorite book series of mine is Ender's Game\",\n",
       " 'Current video game of choice is Rocket League',\n",
       " \"The band that I've seen the most times live is the Zac Brown Band\"]"
      ]
     },
     "metadata": {},
     "execution_count": 89
    }
   ],
   "metadata": {}
  },
  {
   "cell_type": "markdown",
   "source": [
    "# Grab an image from the webpage"
   ],
   "metadata": {}
  },
  {
   "cell_type": "code",
   "execution_count": 102,
   "source": [
    "url = \"https://keithgalli.github.io/web-scraping/\""
   ],
   "outputs": [],
   "metadata": {}
  },
  {
   "cell_type": "code",
   "execution_count": 106,
   "source": [
    "imgs = soup.select(\"img\")\r\n",
    "images = [url+img['src'] for img in imgs]\r\n",
    "image_url = images[1]\r\n",
    "\r\n",
    "img_data = requests.get(image_url).content\r\n",
    "with open(\"lake_como.jpg\",'wb') as image:\r\n",
    "    image.write(img_data)"
   ],
   "outputs": [],
   "metadata": {}
  },
  {
   "cell_type": "markdown",
   "source": [
    "# Mystery Challenge"
   ],
   "metadata": {}
  },
  {
   "cell_type": "code",
   "execution_count": 111,
   "source": [
    "url = \"https://keithgalli.github.io/web-scraping/\""
   ],
   "outputs": [],
   "metadata": {}
  },
  {
   "cell_type": "code",
   "execution_count": 118,
   "source": [
    "temp = soup.select(\"div.block ul li a\")\r\n",
    "files = [file['href'] for file in temp]\r\n",
    "links = [url+file for file in files]\r\n",
    "links"
   ],
   "outputs": [
    {
     "output_type": "execute_result",
     "data": {
      "text/plain": [
       "['https://keithgalli.github.io/web-scraping/challenge/file_1.html',\n",
       " 'https://keithgalli.github.io/web-scraping/challenge/file_2.html',\n",
       " 'https://keithgalli.github.io/web-scraping/challenge/file_3.html',\n",
       " 'https://keithgalli.github.io/web-scraping/challenge/file_4.html',\n",
       " 'https://keithgalli.github.io/web-scraping/challenge/file_5.html',\n",
       " 'https://keithgalli.github.io/web-scraping/challenge/file_6.html',\n",
       " 'https://keithgalli.github.io/web-scraping/challenge/file_7.html',\n",
       " 'https://keithgalli.github.io/web-scraping/challenge/file_8.html',\n",
       " 'https://keithgalli.github.io/web-scraping/challenge/file_9.html',\n",
       " 'https://keithgalli.github.io/web-scraping/challenge/file_10.html']"
      ]
     },
     "metadata": {},
     "execution_count": 118
    }
   ],
   "metadata": {}
  },
  {
   "cell_type": "code",
   "execution_count": 127,
   "source": [
    "msg=\"\"\r\n",
    "\r\n",
    "for link in links:\r\n",
    "    r = requests.get(link)\r\n",
    "    webpage = bs(r.content)\r\n",
    "    msg += (webpage.select(\"p#secret-word\")[0].get_text()+\" \")\r\n",
    "\r\n",
    "print(msg)"
   ],
   "outputs": [
    {
     "output_type": "stream",
     "name": "stdout",
     "text": [
      "Make sure to smash that like button and subscribe !!! \n"
     ]
    }
   ],
   "metadata": {}
  }
 ],
 "metadata": {
  "orig_nbformat": 4,
  "language_info": {
   "name": "python",
   "version": "3.9.1",
   "mimetype": "text/x-python",
   "codemirror_mode": {
    "name": "ipython",
    "version": 3
   },
   "pygments_lexer": "ipython3",
   "nbconvert_exporter": "python",
   "file_extension": ".py"
  },
  "kernelspec": {
   "name": "python3",
   "display_name": "Python 3.9.1 64-bit"
  },
  "interpreter": {
   "hash": "832bd74dc8aa0c74e39e6defa3a403d06b33bb69fdfab780bd3707885ad2b937"
  }
 },
 "nbformat": 4,
 "nbformat_minor": 2
}